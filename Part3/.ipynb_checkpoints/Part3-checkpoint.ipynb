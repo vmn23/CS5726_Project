{
 "cells": [
  {
   "cell_type": "code",
   "execution_count": 7,
   "metadata": {},
   "outputs": [],
   "source": [
    "import numpy as np\n",
    "import pandas as pd\n",
    "import statsmodels.api as sm\n",
    "import statsmodels.formula.api as smf"
   ]
  },
  {
   "cell_type": "code",
   "execution_count": 20,
   "metadata": {},
   "outputs": [],
   "source": [
    "train_data = pd.read_csv(\"../train.csv\")\n",
    "train_data = train_data.dropna(subset=['gt_25k_p6', 'md_earn_wne_p10'])"
   ]
  },
  {
   "cell_type": "code",
   "execution_count": 37,
   "metadata": {},
   "outputs": [
    {
     "data": {
      "text/plain": [
       "Index(['INSTNM', 'CITY', 'STABBR', 'PREDDEG', 'CONTROL', 'LOCALE', 'SATVRMID',\n",
       "       'SATMTMID', 'SATWRMID', 'ACTCMMID', 'ACTENMID', 'ACTMTMID', 'ACTWRMID',\n",
       "       'SAT_AVG', 'DISTANCEONLY', 'UGDS', 'UGDS_WHITE', 'UGDS_BLACK',\n",
       "       'UGDS_HISP', 'UGDS_ASIAN', 'UGDS_AIAN', 'UGDS_NHPI', 'UGDS_2MOR',\n",
       "       'UGDS_NRA', 'UGDS_UNKN', 'PPTUG_EF', 'NPT4_PUB', 'NPT4_PRIV', 'PCTPELL',\n",
       "       'RET_FT4', 'RET_FTL4', 'RET_PT4', 'RET_PTL4', 'PCTFLOAN', 'UG25abv',\n",
       "       'GRAD_DEBT_MDN_SUPP', 'GRAD_DEBT_MDN10YR_SUPP', 'RPY_3YR_RT_SUPP',\n",
       "       'C150_4_POOLED_SUPP', 'C200_L4_POOLED_SUPP', 'md_earn_wne_p10',\n",
       "       'gt_25k_p6', 'gt_25k_05_p6'],\n",
       "      dtype='object')"
      ]
     },
     "execution_count": 37,
     "metadata": {},
     "output_type": "execute_result"
    }
   ],
   "source": [
    "train_data.columns"
   ]
  },
  {
   "cell_type": "markdown",
   "metadata": {},
   "source": [
    "# 1"
   ]
  },
  {
   "cell_type": "markdown",
   "metadata": {},
   "source": [
    "## a"
   ]
  },
  {
   "cell_type": "code",
   "execution_count": 30,
   "metadata": {},
   "outputs": [],
   "source": [
    "md_earn_mean = train_data[\"md_earn_wne_p10\"].mean()\n",
    "gt_25k_mean = train_data[\"gt_25k_05_p6\"].mean()\n",
    "gt_25k_mode = gt_25k_mean >= .5"
   ]
  },
  {
   "cell_type": "code",
   "execution_count": 31,
   "metadata": {},
   "outputs": [
    {
     "data": {
      "text/plain": [
       "True"
      ]
     },
     "execution_count": 31,
     "metadata": {},
     "output_type": "execute_result"
    }
   ],
   "source": [
    "gt_25k_mode"
   ]
  },
  {
   "cell_type": "code",
   "execution_count": 32,
   "metadata": {},
   "outputs": [],
   "source": [
    "md_earn_MSE = np.mean([(v - md_earn_mean)**2 for v in train_data[\"md_earn_wne_p10\"].values])\n",
    "gt_25k_MSE = np.mean([(v - gt_25k_mode)**2 for v in train_data[\"gt_25k_05_p6\"].values])"
   ]
  },
  {
   "cell_type": "code",
   "execution_count": 34,
   "metadata": {},
   "outputs": [
    {
     "data": {
      "text/plain": [
       "191640717.99292535"
      ]
     },
     "execution_count": 34,
     "metadata": {},
     "output_type": "execute_result"
    }
   ],
   "source": [
    "md_earn_MSE"
   ]
  },
  {
   "cell_type": "code",
   "execution_count": 35,
   "metadata": {},
   "outputs": [
    {
     "data": {
      "text/plain": [
       "0.4686660698299015"
      ]
     },
     "execution_count": 35,
     "metadata": {},
     "output_type": "execute_result"
    }
   ],
   "source": [
    "gt_25k_MSE"
   ]
  },
  {
   "cell_type": "markdown",
   "metadata": {},
   "source": [
    "## b"
   ]
  },
  {
   "cell_type": "markdown",
   "metadata": {},
   "source": [
    "It's the right loss function. We're just trying to get them right."
   ]
  },
  {
   "cell_type": "markdown",
   "metadata": {},
   "source": [
    "## c"
   ]
  },
  {
   "cell_type": "code",
   "execution_count": 55,
   "metadata": {},
   "outputs": [
    {
     "name": "stdout",
     "output_type": "stream",
     "text": [
      "INSTNM 0\n",
      "CITY 0\n",
      "STABBR 0\n",
      "PREDDEG 0\n",
      "CONTROL 0\n",
      "LOCALE 157\n",
      "SATVRMID 2611\n",
      "SATMTMID 2604\n",
      "SATWRMID 2888\n",
      "ACTCMMID 2579\n",
      "ACTENMID 2680\n",
      "ACTMTMID 2680\n",
      "ACTWRMID 3166\n",
      "SAT_AVG 2543\n",
      "DISTANCEONLY 157\n",
      "UGDS 186\n",
      "UGDS_WHITE 186\n",
      "UGDS_BLACK 186\n",
      "UGDS_HISP 186\n",
      "UGDS_ASIAN 186\n",
      "UGDS_AIAN 186\n",
      "UGDS_NHPI 186\n",
      "UGDS_2MOR 186\n",
      "UGDS_NRA 186\n",
      "UGDS_UNKN 186\n",
      "PPTUG_EF 187\n",
      "NPT4_PUB 2315\n",
      "NPT4_PRIV 1325\n",
      "PCTPELL 187\n",
      "RET_FT4 2120\n",
      "RET_FTL4 1717\n",
      "RET_PT4 2540\n",
      "RET_PTL4 2325\n",
      "PCTFLOAN 187\n",
      "UG25abv 193\n",
      "GRAD_DEBT_MDN_SUPP 326\n",
      "GRAD_DEBT_MDN10YR_SUPP 326\n",
      "RPY_3YR_RT_SUPP 287\n",
      "C150_4_POOLED_SUPP 2049\n",
      "C200_L4_POOLED_SUPP 1733\n",
      "md_earn_wne_p10 0\n",
      "gt_25k_p6 0\n",
      "gt_25k_05_p6 0\n"
     ]
    }
   ],
   "source": [
    "for col in X_train.columns:\n",
    "    r = X_train[col].isna().sum()\n",
    "    print(col, r)"
   ]
  },
  {
   "cell_type": "code",
   "execution_count": 64,
   "metadata": {},
   "outputs": [],
   "source": [
    "predictors = ['CONTROL', 'LOCALE', 'UGDS', 'PCTPELL', 'PCTFLOAN']\n",
    "train_data = train_data.dropna(subset=predictors)"
   ]
  },
  {
   "cell_type": "code",
   "execution_count": 65,
   "metadata": {},
   "outputs": [],
   "source": [
    "from sklearn.model_selection import train_test_split\n",
    "X_train, X_test, _ ,_ = train_test_split(train_data, train_data, test_size=0.25)"
   ]
  },
  {
   "cell_type": "code",
   "execution_count": 68,
   "metadata": {},
   "outputs": [],
   "source": [
    "ols = smf.ols('md_earn_wne_p10 ~ C(CONTROL) + C(LOCALE) + UGDS + PCTPELL + PCTFLOAN', data=X_train).fit()"
   ]
  },
  {
   "cell_type": "code",
   "execution_count": 69,
   "metadata": {},
   "outputs": [
    {
     "data": {
      "text/html": [
       "<table class=\"simpletable\">\n",
       "<caption>OLS Regression Results</caption>\n",
       "<tr>\n",
       "  <th>Dep. Variable:</th>     <td>md_earn_wne_p10</td> <th>  R-squared:         </th> <td>   0.440</td> \n",
       "</tr>\n",
       "<tr>\n",
       "  <th>Model:</th>                   <td>OLS</td>       <th>  Adj. R-squared:    </th> <td>   0.437</td> \n",
       "</tr>\n",
       "<tr>\n",
       "  <th>Method:</th>             <td>Least Squares</td>  <th>  F-statistic:       </th> <td>   154.9</td> \n",
       "</tr>\n",
       "<tr>\n",
       "  <th>Date:</th>             <td>Wed, 24 Apr 2019</td> <th>  Prob (F-statistic):</th>  <td>  0.00</td>  \n",
       "</tr>\n",
       "<tr>\n",
       "  <th>Time:</th>                 <td>21:35:05</td>     <th>  Log-Likelihood:    </th> <td> -33338.</td> \n",
       "</tr>\n",
       "<tr>\n",
       "  <th>No. Observations:</th>      <td>  3170</td>      <th>  AIC:               </th> <td>6.671e+04</td>\n",
       "</tr>\n",
       "<tr>\n",
       "  <th>Df Residuals:</th>          <td>  3153</td>      <th>  BIC:               </th> <td>6.681e+04</td>\n",
       "</tr>\n",
       "<tr>\n",
       "  <th>Df Model:</th>              <td>    16</td>      <th>                     </th>     <td> </td>    \n",
       "</tr>\n",
       "<tr>\n",
       "  <th>Covariance Type:</th>      <td>nonrobust</td>    <th>                     </th>     <td> </td>    \n",
       "</tr>\n",
       "</table>\n",
       "<table class=\"simpletable\">\n",
       "<tr>\n",
       "          <td></td>             <th>coef</th>     <th>std err</th>      <th>t</th>      <th>P>|t|</th>  <th>[0.025</th>    <th>0.975]</th>  \n",
       "</tr>\n",
       "<tr>\n",
       "  <th>Intercept</th>         <td> 4.055e+04</td> <td>  708.200</td> <td>   57.251</td> <td> 0.000</td> <td> 3.92e+04</td> <td> 4.19e+04</td>\n",
       "</tr>\n",
       "<tr>\n",
       "  <th>C(CONTROL)[T.2]</th>   <td> 2058.0925</td> <td>  521.930</td> <td>    3.943</td> <td> 0.000</td> <td> 1034.735</td> <td> 3081.450</td>\n",
       "</tr>\n",
       "<tr>\n",
       "  <th>C(CONTROL)[T.3]</th>   <td>-4993.5559</td> <td>  558.948</td> <td>   -8.934</td> <td> 0.000</td> <td>-6089.494</td> <td>-3897.617</td>\n",
       "</tr>\n",
       "<tr>\n",
       "  <th>C(LOCALE)[T.12.0]</th> <td>-1692.7845</td> <td>  566.693</td> <td>   -2.987</td> <td> 0.003</td> <td>-2803.909</td> <td> -581.660</td>\n",
       "</tr>\n",
       "<tr>\n",
       "  <th>C(LOCALE)[T.13.0]</th> <td>-2935.7234</td> <td>  565.926</td> <td>   -5.187</td> <td> 0.000</td> <td>-4045.345</td> <td>-1826.102</td>\n",
       "</tr>\n",
       "<tr>\n",
       "  <th>C(LOCALE)[T.21.0]</th> <td>-1194.8713</td> <td>  467.214</td> <td>   -2.557</td> <td> 0.011</td> <td>-2110.946</td> <td> -278.797</td>\n",
       "</tr>\n",
       "<tr>\n",
       "  <th>C(LOCALE)[T.22.0]</th> <td>-3221.6315</td> <td> 1031.148</td> <td>   -3.124</td> <td> 0.002</td> <td>-5243.420</td> <td>-1199.843</td>\n",
       "</tr>\n",
       "<tr>\n",
       "  <th>C(LOCALE)[T.23.0]</th> <td>-3121.0909</td> <td> 1299.318</td> <td>   -2.402</td> <td> 0.016</td> <td>-5668.685</td> <td> -573.497</td>\n",
       "</tr>\n",
       "<tr>\n",
       "  <th>C(LOCALE)[T.31.0]</th> <td>-5363.5872</td> <td> 1148.953</td> <td>   -4.668</td> <td> 0.000</td> <td>-7616.358</td> <td>-3110.817</td>\n",
       "</tr>\n",
       "<tr>\n",
       "  <th>C(LOCALE)[T.32.0]</th> <td>-5073.1143</td> <td>  743.390</td> <td>   -6.824</td> <td> 0.000</td> <td>-6530.692</td> <td>-3615.537</td>\n",
       "</tr>\n",
       "<tr>\n",
       "  <th>C(LOCALE)[T.33.0]</th> <td>-4788.4262</td> <td>  776.558</td> <td>   -6.166</td> <td> 0.000</td> <td>-6311.036</td> <td>-3265.816</td>\n",
       "</tr>\n",
       "<tr>\n",
       "  <th>C(LOCALE)[T.41.0]</th> <td>-3785.2740</td> <td>  789.244</td> <td>   -4.796</td> <td> 0.000</td> <td>-5332.759</td> <td>-2237.789</td>\n",
       "</tr>\n",
       "<tr>\n",
       "  <th>C(LOCALE)[T.42.0]</th> <td>-6004.2874</td> <td> 1325.865</td> <td>   -4.529</td> <td> 0.000</td> <td>-8603.933</td> <td>-3404.642</td>\n",
       "</tr>\n",
       "<tr>\n",
       "  <th>C(LOCALE)[T.43.0]</th> <td>-5783.0672</td> <td> 1826.934</td> <td>   -3.165</td> <td> 0.002</td> <td>-9365.167</td> <td>-2200.967</td>\n",
       "</tr>\n",
       "<tr>\n",
       "  <th>UGDS</th>              <td>    0.2350</td> <td>    0.035</td> <td>    6.628</td> <td> 0.000</td> <td>    0.165</td> <td>    0.305</td>\n",
       "</tr>\n",
       "<tr>\n",
       "  <th>PCTPELL</th>           <td>-2.815e+04</td> <td>  949.423</td> <td>  -29.650</td> <td> 0.000</td> <td>   -3e+04</td> <td>-2.63e+04</td>\n",
       "</tr>\n",
       "<tr>\n",
       "  <th>PCTFLOAN</th>          <td> 1.808e+04</td> <td>  728.734</td> <td>   24.814</td> <td> 0.000</td> <td> 1.67e+04</td> <td> 1.95e+04</td>\n",
       "</tr>\n",
       "</table>\n",
       "<table class=\"simpletable\">\n",
       "<tr>\n",
       "  <th>Omnibus:</th>       <td>1043.922</td> <th>  Durbin-Watson:     </th> <td>   2.036</td>\n",
       "</tr>\n",
       "<tr>\n",
       "  <th>Prob(Omnibus):</th>  <td> 0.000</td>  <th>  Jarque-Bera (JB):  </th> <td>5279.357</td>\n",
       "</tr>\n",
       "<tr>\n",
       "  <th>Skew:</th>           <td> 1.490</td>  <th>  Prob(JB):          </th> <td>    0.00</td>\n",
       "</tr>\n",
       "<tr>\n",
       "  <th>Kurtosis:</th>       <td> 8.576</td>  <th>  Cond. No.          </th> <td>7.53e+04</td>\n",
       "</tr>\n",
       "</table><br/><br/>Warnings:<br/>[1] Standard Errors assume that the covariance matrix of the errors is correctly specified.<br/>[2] The condition number is large, 7.53e+04. This might indicate that there are<br/>strong multicollinearity or other numerical problems."
      ],
      "text/plain": [
       "<class 'statsmodels.iolib.summary.Summary'>\n",
       "\"\"\"\n",
       "                            OLS Regression Results                            \n",
       "==============================================================================\n",
       "Dep. Variable:        md_earn_wne_p10   R-squared:                       0.440\n",
       "Model:                            OLS   Adj. R-squared:                  0.437\n",
       "Method:                 Least Squares   F-statistic:                     154.9\n",
       "Date:                Wed, 24 Apr 2019   Prob (F-statistic):               0.00\n",
       "Time:                        21:35:05   Log-Likelihood:                -33338.\n",
       "No. Observations:                3170   AIC:                         6.671e+04\n",
       "Df Residuals:                    3153   BIC:                         6.681e+04\n",
       "Df Model:                          16                                         \n",
       "Covariance Type:            nonrobust                                         \n",
       "=====================================================================================\n",
       "                        coef    std err          t      P>|t|      [0.025      0.975]\n",
       "-------------------------------------------------------------------------------------\n",
       "Intercept          4.055e+04    708.200     57.251      0.000    3.92e+04    4.19e+04\n",
       "C(CONTROL)[T.2]    2058.0925    521.930      3.943      0.000    1034.735    3081.450\n",
       "C(CONTROL)[T.3]   -4993.5559    558.948     -8.934      0.000   -6089.494   -3897.617\n",
       "C(LOCALE)[T.12.0] -1692.7845    566.693     -2.987      0.003   -2803.909    -581.660\n",
       "C(LOCALE)[T.13.0] -2935.7234    565.926     -5.187      0.000   -4045.345   -1826.102\n",
       "C(LOCALE)[T.21.0] -1194.8713    467.214     -2.557      0.011   -2110.946    -278.797\n",
       "C(LOCALE)[T.22.0] -3221.6315   1031.148     -3.124      0.002   -5243.420   -1199.843\n",
       "C(LOCALE)[T.23.0] -3121.0909   1299.318     -2.402      0.016   -5668.685    -573.497\n",
       "C(LOCALE)[T.31.0] -5363.5872   1148.953     -4.668      0.000   -7616.358   -3110.817\n",
       "C(LOCALE)[T.32.0] -5073.1143    743.390     -6.824      0.000   -6530.692   -3615.537\n",
       "C(LOCALE)[T.33.0] -4788.4262    776.558     -6.166      0.000   -6311.036   -3265.816\n",
       "C(LOCALE)[T.41.0] -3785.2740    789.244     -4.796      0.000   -5332.759   -2237.789\n",
       "C(LOCALE)[T.42.0] -6004.2874   1325.865     -4.529      0.000   -8603.933   -3404.642\n",
       "C(LOCALE)[T.43.0] -5783.0672   1826.934     -3.165      0.002   -9365.167   -2200.967\n",
       "UGDS                  0.2350      0.035      6.628      0.000       0.165       0.305\n",
       "PCTPELL           -2.815e+04    949.423    -29.650      0.000      -3e+04   -2.63e+04\n",
       "PCTFLOAN           1.808e+04    728.734     24.814      0.000    1.67e+04    1.95e+04\n",
       "==============================================================================\n",
       "Omnibus:                     1043.922   Durbin-Watson:                   2.036\n",
       "Prob(Omnibus):                  0.000   Jarque-Bera (JB):             5279.357\n",
       "Skew:                           1.490   Prob(JB):                         0.00\n",
       "Kurtosis:                       8.576   Cond. No.                     7.53e+04\n",
       "==============================================================================\n",
       "\n",
       "Warnings:\n",
       "[1] Standard Errors assume that the covariance matrix of the errors is correctly specified.\n",
       "[2] The condition number is large, 7.53e+04. This might indicate that there are\n",
       "strong multicollinearity or other numerical problems.\n",
       "\"\"\""
      ]
     },
     "execution_count": 69,
     "metadata": {},
     "output_type": "execute_result"
    }
   ],
   "source": [
    "ols.summary()"
   ]
  },
  {
   "cell_type": "code",
   "execution_count": 70,
   "metadata": {},
   "outputs": [
    {
     "name": "stdout",
     "output_type": "stream",
     "text": [
      "Optimization terminated successfully.\n",
      "         Current function value: 0.464923\n",
      "         Iterations 7\n"
     ]
    }
   ],
   "source": [
    "log = smf.logit('gt_25k_05_p6 ~ C(CONTROL) + C(LOCALE) + UGDS + PCTPELL + PCTFLOAN', data=X_train).fit()"
   ]
  },
  {
   "cell_type": "code",
   "execution_count": 71,
   "metadata": {},
   "outputs": [
    {
     "data": {
      "text/html": [
       "<table class=\"simpletable\">\n",
       "<caption>Logit Regression Results</caption>\n",
       "<tr>\n",
       "  <th>Dep. Variable:</th>   <td>gt_25k_05_p6</td>   <th>  No. Observations:  </th>   <td>  3170</td>  \n",
       "</tr>\n",
       "<tr>\n",
       "  <th>Model:</th>               <td>Logit</td>      <th>  Df Residuals:      </th>   <td>  3153</td>  \n",
       "</tr>\n",
       "<tr>\n",
       "  <th>Method:</th>               <td>MLE</td>       <th>  Df Model:          </th>   <td>    16</td>  \n",
       "</tr>\n",
       "<tr>\n",
       "  <th>Date:</th>          <td>Wed, 24 Apr 2019</td> <th>  Pseudo R-squ.:     </th>   <td>0.3285</td>  \n",
       "</tr>\n",
       "<tr>\n",
       "  <th>Time:</th>              <td>21:35:18</td>     <th>  Log-Likelihood:    </th>  <td> -1473.8</td> \n",
       "</tr>\n",
       "<tr>\n",
       "  <th>converged:</th>           <td>True</td>       <th>  LL-Null:           </th>  <td> -2194.7</td> \n",
       "</tr>\n",
       "<tr>\n",
       "  <th> </th>                      <td> </td>        <th>  LLR p-value:       </th> <td>1.699e-297</td>\n",
       "</tr>\n",
       "</table>\n",
       "<table class=\"simpletable\">\n",
       "<tr>\n",
       "          <td></td>             <th>coef</th>     <th>std err</th>      <th>z</th>      <th>P>|z|</th>  <th>[0.025</th>    <th>0.975]</th>  \n",
       "</tr>\n",
       "<tr>\n",
       "  <th>Intercept</th>         <td>    1.1371</td> <td>    0.205</td> <td>    5.559</td> <td> 0.000</td> <td>    0.736</td> <td>    1.538</td>\n",
       "</tr>\n",
       "<tr>\n",
       "  <th>C(CONTROL)[T.2]</th>   <td>   -0.5436</td> <td>    0.172</td> <td>   -3.161</td> <td> 0.002</td> <td>   -0.881</td> <td>   -0.207</td>\n",
       "</tr>\n",
       "<tr>\n",
       "  <th>C(CONTROL)[T.3]</th>   <td>   -1.3427</td> <td>    0.167</td> <td>   -8.040</td> <td> 0.000</td> <td>   -1.670</td> <td>   -1.015</td>\n",
       "</tr>\n",
       "<tr>\n",
       "  <th>C(LOCALE)[T.12.0]</th> <td>   -0.1547</td> <td>    0.163</td> <td>   -0.952</td> <td> 0.341</td> <td>   -0.473</td> <td>    0.164</td>\n",
       "</tr>\n",
       "<tr>\n",
       "  <th>C(LOCALE)[T.13.0]</th> <td>   -0.3726</td> <td>    0.167</td> <td>   -2.233</td> <td> 0.026</td> <td>   -0.700</td> <td>   -0.046</td>\n",
       "</tr>\n",
       "<tr>\n",
       "  <th>C(LOCALE)[T.21.0]</th> <td>    0.0466</td> <td>    0.130</td> <td>    0.358</td> <td> 0.720</td> <td>   -0.208</td> <td>    0.302</td>\n",
       "</tr>\n",
       "<tr>\n",
       "  <th>C(LOCALE)[T.22.0]</th> <td>   -0.4129</td> <td>    0.299</td> <td>   -1.380</td> <td> 0.168</td> <td>   -0.999</td> <td>    0.174</td>\n",
       "</tr>\n",
       "<tr>\n",
       "  <th>C(LOCALE)[T.23.0]</th> <td>   -0.3305</td> <td>    0.397</td> <td>   -0.832</td> <td> 0.405</td> <td>   -1.109</td> <td>    0.448</td>\n",
       "</tr>\n",
       "<tr>\n",
       "  <th>C(LOCALE)[T.31.0]</th> <td>   -0.4742</td> <td>    0.346</td> <td>   -1.372</td> <td> 0.170</td> <td>   -1.152</td> <td>    0.203</td>\n",
       "</tr>\n",
       "<tr>\n",
       "  <th>C(LOCALE)[T.32.0]</th> <td>   -0.5163</td> <td>    0.224</td> <td>   -2.302</td> <td> 0.021</td> <td>   -0.956</td> <td>   -0.077</td>\n",
       "</tr>\n",
       "<tr>\n",
       "  <th>C(LOCALE)[T.33.0]</th> <td>   -0.4883</td> <td>    0.222</td> <td>   -2.196</td> <td> 0.028</td> <td>   -0.924</td> <td>   -0.052</td>\n",
       "</tr>\n",
       "<tr>\n",
       "  <th>C(LOCALE)[T.41.0]</th> <td>   -0.2133</td> <td>    0.220</td> <td>   -0.971</td> <td> 0.331</td> <td>   -0.644</td> <td>    0.217</td>\n",
       "</tr>\n",
       "<tr>\n",
       "  <th>C(LOCALE)[T.42.0]</th> <td>   -1.3423</td> <td>    0.407</td> <td>   -3.297</td> <td> 0.001</td> <td>   -2.140</td> <td>   -0.544</td>\n",
       "</tr>\n",
       "<tr>\n",
       "  <th>C(LOCALE)[T.43.0]</th> <td>   -0.7263</td> <td>    0.594</td> <td>   -1.222</td> <td> 0.222</td> <td>   -1.891</td> <td>    0.438</td>\n",
       "</tr>\n",
       "<tr>\n",
       "  <th>UGDS</th>              <td> 6.581e-05</td> <td> 1.22e-05</td> <td>    5.389</td> <td> 0.000</td> <td> 4.19e-05</td> <td> 8.97e-05</td>\n",
       "</tr>\n",
       "<tr>\n",
       "  <th>PCTPELL</th>           <td>   -8.0034</td> <td>    0.383</td> <td>  -20.901</td> <td> 0.000</td> <td>   -8.754</td> <td>   -7.253</td>\n",
       "</tr>\n",
       "<tr>\n",
       "  <th>PCTFLOAN</th>          <td>    6.9504</td> <td>    0.329</td> <td>   21.116</td> <td> 0.000</td> <td>    6.305</td> <td>    7.596</td>\n",
       "</tr>\n",
       "</table>"
      ],
      "text/plain": [
       "<class 'statsmodels.iolib.summary.Summary'>\n",
       "\"\"\"\n",
       "                           Logit Regression Results                           \n",
       "==============================================================================\n",
       "Dep. Variable:           gt_25k_05_p6   No. Observations:                 3170\n",
       "Model:                          Logit   Df Residuals:                     3153\n",
       "Method:                           MLE   Df Model:                           16\n",
       "Date:                Wed, 24 Apr 2019   Pseudo R-squ.:                  0.3285\n",
       "Time:                        21:35:18   Log-Likelihood:                -1473.8\n",
       "converged:                       True   LL-Null:                       -2194.7\n",
       "                                        LLR p-value:                1.699e-297\n",
       "=====================================================================================\n",
       "                        coef    std err          z      P>|z|      [0.025      0.975]\n",
       "-------------------------------------------------------------------------------------\n",
       "Intercept             1.1371      0.205      5.559      0.000       0.736       1.538\n",
       "C(CONTROL)[T.2]      -0.5436      0.172     -3.161      0.002      -0.881      -0.207\n",
       "C(CONTROL)[T.3]      -1.3427      0.167     -8.040      0.000      -1.670      -1.015\n",
       "C(LOCALE)[T.12.0]    -0.1547      0.163     -0.952      0.341      -0.473       0.164\n",
       "C(LOCALE)[T.13.0]    -0.3726      0.167     -2.233      0.026      -0.700      -0.046\n",
       "C(LOCALE)[T.21.0]     0.0466      0.130      0.358      0.720      -0.208       0.302\n",
       "C(LOCALE)[T.22.0]    -0.4129      0.299     -1.380      0.168      -0.999       0.174\n",
       "C(LOCALE)[T.23.0]    -0.3305      0.397     -0.832      0.405      -1.109       0.448\n",
       "C(LOCALE)[T.31.0]    -0.4742      0.346     -1.372      0.170      -1.152       0.203\n",
       "C(LOCALE)[T.32.0]    -0.5163      0.224     -2.302      0.021      -0.956      -0.077\n",
       "C(LOCALE)[T.33.0]    -0.4883      0.222     -2.196      0.028      -0.924      -0.052\n",
       "C(LOCALE)[T.41.0]    -0.2133      0.220     -0.971      0.331      -0.644       0.217\n",
       "C(LOCALE)[T.42.0]    -1.3423      0.407     -3.297      0.001      -2.140      -0.544\n",
       "C(LOCALE)[T.43.0]    -0.7263      0.594     -1.222      0.222      -1.891       0.438\n",
       "UGDS               6.581e-05   1.22e-05      5.389      0.000    4.19e-05    8.97e-05\n",
       "PCTPELL              -8.0034      0.383    -20.901      0.000      -8.754      -7.253\n",
       "PCTFLOAN              6.9504      0.329     21.116      0.000       6.305       7.596\n",
       "=====================================================================================\n",
       "\"\"\""
      ]
     },
     "execution_count": 71,
     "metadata": {},
     "output_type": "execute_result"
    }
   ],
   "source": [
    "log.summary()"
   ]
  },
  {
   "cell_type": "code",
   "execution_count": 75,
   "metadata": {},
   "outputs": [],
   "source": [
    "def MSE(preds, labels):\n",
    "    return np.mean([(v - p)**2 for v,p in zip(labels, preds)])"
   ]
  },
  {
   "cell_type": "code",
   "execution_count": 78,
   "metadata": {},
   "outputs": [],
   "source": [
    "ols_pred = ols.predict(X_test)\n",
    "log_pred = log.predict(X_test)\n",
    "ols_MSE = MSE(X_test[\"md_earn_wne_p10\"].values,ols_pred)\n",
    "log_MSE = MSE(X_test[\"gt_25k_05_p6\"].values,log_pred)"
   ]
  },
  {
   "cell_type": "code",
   "execution_count": 79,
   "metadata": {},
   "outputs": [
    {
     "data": {
      "text/plain": [
       "70210619.39437677"
      ]
     },
     "execution_count": 79,
     "metadata": {},
     "output_type": "execute_result"
    }
   ],
   "source": [
    "ols_MSE"
   ]
  },
  {
   "cell_type": "code",
   "execution_count": 80,
   "metadata": {},
   "outputs": [
    {
     "data": {
      "text/plain": [
       "0.1523019079886964"
      ]
     },
     "execution_count": 80,
     "metadata": {},
     "output_type": "execute_result"
    }
   ],
   "source": [
    "log_MSE"
   ]
  },
  {
   "cell_type": "markdown",
   "metadata": {},
   "source": [
    "MUCH BETTER!!!!!"
   ]
  },
  {
   "cell_type": "markdown",
   "metadata": {},
   "source": [
    "# 2"
   ]
  },
  {
   "cell_type": "code",
   "execution_count": null,
   "metadata": {},
   "outputs": [],
   "source": []
  }
 ],
 "metadata": {
  "kernelspec": {
   "display_name": "cs5726",
   "language": "python",
   "name": "cs5726"
  },
  "language_info": {
   "codemirror_mode": {
    "name": "ipython",
    "version": 3
   },
   "file_extension": ".py",
   "mimetype": "text/x-python",
   "name": "python",
   "nbconvert_exporter": "python",
   "pygments_lexer": "ipython3",
   "version": "3.5.2"
  }
 },
 "nbformat": 4,
 "nbformat_minor": 2
}
